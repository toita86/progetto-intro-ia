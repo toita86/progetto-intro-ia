{
 "cells": [
  {
   "cell_type": "markdown",
   "metadata": {},
   "source": [
    "# Progetto Introduzione all'intelligenza artificiale\n",
    "\n",
    "Il progetto consiste nella realizzazione di una applicazione di Intelligenza Artificiale completa degli\n",
    "aspetti di gestione di: sensori per l’acquisizione dei dati dall’esterno relativi a stati e obiettivi,\n",
    "ragionamento/ricerca della soluzione per i goal acquisiti, esecutori per la realizzazione delle azioni\n",
    "che conducono alla soluzione."
   ]
  },
  {
   "cell_type": "markdown",
   "metadata": {},
   "source": [
    "## Progetto Uniform Coloring\n",
    "Uniform Coloring è un dominio in cui si hanno a disposizione alcune celle da colorare, e vari colori a disposizione. \n",
    "Per semplicità immaginiamo una griglia rettangolare in cui è possibile spostare una testina colorante fra le celle attigue secondo le 4 direzioni cardinali (N,S,E,W), senza uscire dalla griglia. \n",
    "\n",
    "Tutte le celle hanno un colore di partenza (B=blu, Y=yellow, G=green) ad eccezione di quella in cui si trova la testina indicata con T. La testina può colorare la cella in cui si trova con uno qualsiasi dei colori disponibili a differenti costi (cost(B)=1, cost(Y)=2, cost(G)=3), mentre gli spostamenti hanno tutti costo uniforme pari a 1. \n",
    "\n",
    ">L’obiettivo è colorare tutte le celle dello stesso colore (non importa quale) e riportare la testina nella sua posizione di partenza.\n",
    "\n",
    "La codifica di tutto il dominio (topologia della griglia, definizione delle azioni etc.) è parte dell’esercizio. Partendo dalla posizione iniziale della testina e combinando azioni di spostamento e colorazione, si chiede di trovare la sequenza di azioni dell’agente per raggiungere l’obiettivo.\n",
    "\n",
    "La posizione iniziale della testina, la struttura della griglia e la colorazione iniziale delle celle sono passati al sistema tramite un’immagine."
   ]
  },
  {
   "cell_type": "markdown",
   "metadata": {},
   "source": [
    "### Inizializzazione delle librerie e moduli"
   ]
  },
  {
   "cell_type": "code",
   "execution_count": 18,
   "execution_count": 1,
   "metadata": {},
   "outputs": [
    {
     "data": {
      "text/plain": [
       "\"\\n# print some images from the dataset to test\\nimport matplotlib.pyplot as plt\\nfrom emnist import extract_training_samples\\nimages, labels = extract_training_samples('letters')\\nfor i in range(100):\\n    plt.subplot(10, 10, i+1)\\n    plt.axis('off')\\n    plt.imshow(images[i], cmap='gray')\\nplt.show()\\n\""
      ]
     },
     "execution_count": 18,
     "execution_count": 1,
     "metadata": {},
     "output_type": "execute_result"
    }
   ],
   "source": [
    "import tensorflow as tf\n",
    "import numpy as np\n",
    "import matplotlib.pyplot as plt\n",
    "import cv2\n",
    "import datetime\n",
    "from emnist import list_datasets\n",
    "from tensorflow import keras    \n",
    "from sklearn.metrics import confusion_matrix\n",
    "from sklearn.metrics import ConfusionMatrixDisplay\n",
    "from sklearn.metrics import classification_report\n",
    "\n",
    "\n",
    "\n",
    "list_datasets()\n",
    "\n",
    "'''\n",
    "# print some images from the dataset to test\n",
    "import matplotlib.pyplot as plt\n",
    "from emnist import extract_training_samples\n",
    "images, labels = extract_training_samples('letters')\n",
    "for i in range(100):\n",
    "    plt.subplot(10, 10, i+1)\n",
    "    plt.axis('off')\n",
    "    plt.imshow(images[i], cmap='gray')\n",
    "plt.show()\n",
    "'''\n"
   ]
  },
  {
   "cell_type": "markdown",
   "metadata": {},
   "source": [
    "## 1. Descrizione formale del dominio e vincoli su cui l'agente può operare\n",
    "\n",
    "Descrizione formale del dominio e dei vincoli che le azioni eseguibili dall’agente (la testina) nella griglia devono rispettare (esempio vincoli: v1=”l’agente può compiere un solo passo alla volta”, v2=”l’agente si può muovere solo fra celle adiacenti”, etc.). La descrizione sarà un testo che descrive le regole da rispettare e le assunzioni desunte dall’analisi del dominio.\n",
    "\n",
    "### Descrizione del dominio e vincoli \n",
    "\n",
    "**Elementi del dominio:**\n",
    "- Celle: Presenti in una griglia rettangolare nella quale è possibile spostare una testina colorante. Ogni cella ha un colore di partenza ed è possibile ricolorarle con i tre colori disponibili (yellow, blue, green).\n",
    "- Testina colorante: È l'agente che, nella griglia fornita in input come immagine, può spostarsi tra le celle e cambiarne il colore. Una delle celle rappresenta la posizione iniziale della testina prima di muoversi e sulla quale dovrà ritornare dopo aver svolto le azioni richieste.\n",
    "\n",
    "**Relazioni:**\n",
    "- Ad ogni cella dell'immagine è associata un'etichetta rappresentante uno dei colori disponibili (Y, B, G).\n",
    "- La testina inizialmente dovrà essere posizionata sempre sulla cella con etichetta T.\n",
    "\n",
    "**Regole:**\n",
    "- La testina può spostarsi nelle sole direzioni nord, sud, est, ovest.\n",
    "- La testina può cambiare colore nella cella in cui è posizionata. Colorare le celle ha un costo che varia in base al colore (cost(B) = 1, cost(Y) = 2, cost(G) = 3).\n",
    "- Il passaggio da una cella all'altra ha sempre costo 1.\n",
    "- **GOAL**: Colorare tutte le celle dello stesso colore. La testina dovrà trovare un modo per farlo nella maniera più efficiente possibile, sia in termini di colori che di numero di passi effettuati per muoversi tra le celle.\n",
    "\n",
    "**Vincoli:**\n",
    "- v0=\"La griglia può essere rettangolare e quadrata\".\n",
    "- v1=”L’agente può compiere un solo passo alla volta”.\n",
    "- v2=”L’agente si può muovere solo fra celle adiacenti”.\n",
    "- v3=\"Nella griglia non esistono celle vuote, tutte devono essere colorate in partenza\".\n",
    "- v4=\"Le celle devono essere tutte raggiungibili dalla posizione iniziale della testina\".\n",
    "- v5=\"Il costo delle azioni di movimento è uniforme (1), mentre il costo della colorazione dipende dal colore scelto\".\n",
    "- v6=\"L'agente non può colorare la posizione di partenza (quindi bisogna trovare un modo per evitarlo)\".\n",
    "- v7=\"Dopo che l'agente ha colorato tutte le celle, deve ritornare alla posizione di partenza\".\n",
    "\n",
    "**Esempi di problemi, con possibili soluzioni e costi**:\n",
    "che sono costituite da un array bidimsionale, verranno fornite in un immagine come input al programma  \n",
    "\n",
    "I vincoli applicati sono i seguenti:\n",
    "- v1=”l’agente può compiere un solo passo alla volta”\n",
    "- v2=”l’agente si può muovere solo fra celle adiacenti”\n",
    "- v3=\"dopo che l'agente ha colorato tutte le testine, deve ritornare alla posizione di partenza\"\n",
    "- v4=\"l'agente non puo colorare la posizione di partenza (quindi bisogna trovare un modo per evitarlo)\""
   ]
  },
  {
   "cell_type": "markdown",
   "metadata": {},
   "source": [
    "## 2 Implementazione delle classi per la ricerca nello spazio degli stati di Smart Vacuum.\n",
    "Utilizzando le classi di AIMA-python si implementi quindi un dominio UniformColoring come classe derivata da Problem, scegliendo e definendo una rappresentazione per gli stati e ridefinendo opportuni metodi actions e result e tutti gli eventuali metodi aggiuntivi , es. goal_test, che si rendessero necessari.\n",
    "Si descriva e si implementi almeno una euristica definenendone le caratteristiche di consistenza e ammissibilità rispetto al dominio dato. L’euristica definita mantiene le stesse proprietà nel caso in cui le azioni di spostamento costassero 0 o le colorazioni avessero tutte lo stesso costo?"
   ]
  },
  {
   "cell_type": "code",
   "execution_count": null,
   "metadata": {},
   "outputs": [],
   "source": []
  },
  {
   "cell_type": "markdown",
   "metadata": {},
   "source": [
    "## 3 Acquisizione e classificazione degli input, stato iniziale e goal. \n",
    "Si realizzi un programma che, passata in input un’immagine contenente la configurazione della griglia e la posizione iniziale dell’agente:\n",
    "a) interpreti l’immagine individuando la configurazione della griglia e, attraverso un metodo di classificazione, la posizione iniziale dell’agente e la colorazione iniziale delle celle. Non ci sono vincoli sul metodo/modello utilizzato per la classificazione. \n",
    "Si consiglia di utilizzare il dataseteMNIST/MNIST per la classficazione di lettere e cifre scritte a mano, visto a lezione e facilmente reperibile su Web. Assumiamo che le lettere siano solo maiuscole;\n",
    "b) traduca i dati risultanti dall’analisi delle immagini negli stati stato_iniziale e stato_goal del problema, secondo la rappresentazione definita per il punto 2;\n",
    "c) invochi il solutore (vedi punto 2), tramite una tecnica di ricerca informata e almeno una non informata, della classe UniformColoring e produca, se esiste, la soluzione del problema, ovvero la sequenza azioni da eseguire per raggiungere lo stato goal. E’ interessante mostrare come algoritmi diversi possano portare a soluzioni diverse nel caso in cui ottimizzino rispetto al costo della soluzione oppure rispetto la sua lunghezza."
   ]
  },
  {
   "cell_type": "code",
   "execution_count": 19,
   "metadata": {},
   "outputs": [
    {
     "ename": "KeyError",
     "evalue": "\"There is no item named 'gzip/emnist-balanced-train-images-idx3-ubyte.gz' in the archive\"",
     "output_type": "error",
     "traceback": [
      "\u001b[0;31m---------------------------------------------------------------------------\u001b[0m",
      "\u001b[0;31mKeyError\u001b[0m                                  Traceback (most recent call last)",
      "Cell \u001b[0;32mIn[2], line 81\u001b[0m\n\u001b[1;32m     78\u001b[0m     \u001b[38;5;28;01mreturn\u001b[39;00m (new_X_data, new_y_data)\n\u001b[1;32m     80\u001b[0m \u001b[38;5;66;03m# Extract the training and test samples from the EMNIST dataset\u001b[39;00m\n\u001b[0;32m---> 81\u001b[0m X_train, y_train \u001b[38;5;241m=\u001b[39m \u001b[43mextract_training_samples\u001b[49m\u001b[43m(\u001b[49m\u001b[38;5;124;43m'\u001b[39;49m\u001b[38;5;124;43mbalanced\u001b[39;49m\u001b[38;5;124;43m'\u001b[39;49m\u001b[43m)\u001b[49m\n\u001b[1;32m     82\u001b[0m X_test, y_test \u001b[38;5;241m=\u001b[39m extract_test_samples(\u001b[38;5;124m'\u001b[39m\u001b[38;5;124mbalanced\u001b[39m\u001b[38;5;124m'\u001b[39m)\n\u001b[1;32m     84\u001b[0m \u001b[38;5;66;03m# Filter the training and test datasets\u001b[39;00m\n",
      "File \u001b[0;32m~/Documents/progetto-intro-ia/.venv/lib/python3.10/site-packages/emnist/__init__.py:209\u001b[0m, in \u001b[0;36mextract_training_samples\u001b[0;34m(dataset)\u001b[0m\n\u001b[1;32m    206\u001b[0m \u001b[38;5;28;01mdef\u001b[39;00m \u001b[38;5;21mextract_training_samples\u001b[39m(dataset):\n\u001b[1;32m    207\u001b[0m \u001b[38;5;250m    \u001b[39m\u001b[38;5;124;03m\"\"\"Extract the training samples for a given dataset as a pair of numpy arrays, (images, labels). The dataset must be\u001b[39;00m\n\u001b[1;32m    208\u001b[0m \u001b[38;5;124;03m    one of those listed by list_datasets(), e.g. 'digits' or 'mnist'.\"\"\"\u001b[39;00m\n\u001b[0;32m--> 209\u001b[0m     \u001b[38;5;28;01mreturn\u001b[39;00m \u001b[43mextract_samples\u001b[49m\u001b[43m(\u001b[49m\u001b[43mdataset\u001b[49m\u001b[43m,\u001b[49m\u001b[43m \u001b[49m\u001b[38;5;124;43m'\u001b[39;49m\u001b[38;5;124;43mtrain\u001b[39;49m\u001b[38;5;124;43m'\u001b[39;49m\u001b[43m)\u001b[49m\n",
      "File \u001b[0;32m~/Documents/progetto-intro-ia/.venv/lib/python3.10/site-packages/emnist/__init__.py:199\u001b[0m, in \u001b[0;36mextract_samples\u001b[0;34m(dataset, usage)\u001b[0m\n\u001b[1;32m    196\u001b[0m \u001b[38;5;28;01mdef\u001b[39;00m \u001b[38;5;21mextract_samples\u001b[39m(dataset, usage):\n\u001b[1;32m    197\u001b[0m \u001b[38;5;250m    \u001b[39m\u001b[38;5;124;03m\"\"\"Extract the samples for a given dataset and usage as a pair of numpy arrays, (images, labels). The dataset must\u001b[39;00m\n\u001b[1;32m    198\u001b[0m \u001b[38;5;124;03m    be one of those listed by list_datasets(), e.g. 'digits' or 'mnist'. Usage should be either 'train' or 'test'.\"\"\"\u001b[39;00m\n\u001b[0;32m--> 199\u001b[0m     images \u001b[38;5;241m=\u001b[39m \u001b[43mextract_data\u001b[49m\u001b[43m(\u001b[49m\u001b[43mdataset\u001b[49m\u001b[43m,\u001b[49m\u001b[43m \u001b[49m\u001b[43musage\u001b[49m\u001b[43m,\u001b[49m\u001b[43m \u001b[49m\u001b[38;5;124;43m'\u001b[39;49m\u001b[38;5;124;43mimages\u001b[39;49m\u001b[38;5;124;43m'\u001b[39;49m\u001b[43m)\u001b[49m\n\u001b[1;32m    200\u001b[0m     labels \u001b[38;5;241m=\u001b[39m extract_data(dataset, usage, \u001b[38;5;124m'\u001b[39m\u001b[38;5;124mlabels\u001b[39m\u001b[38;5;124m'\u001b[39m)\n\u001b[1;32m    201\u001b[0m     \u001b[38;5;28;01mif\u001b[39;00m \u001b[38;5;28mlen\u001b[39m(images) \u001b[38;5;241m!=\u001b[39m \u001b[38;5;28mlen\u001b[39m(labels):\n",
      "File \u001b[0;32m~/Documents/progetto-intro-ia/.venv/lib/python3.10/site-packages/emnist/__init__.py:186\u001b[0m, in \u001b[0;36mextract_data\u001b[0;34m(dataset, usage, component)\u001b[0m\n\u001b[1;32m    184\u001b[0m zip_internal_path \u001b[38;5;241m=\u001b[39m ZIP_PATH_TEMPLATE\u001b[38;5;241m.\u001b[39mformat(dataset\u001b[38;5;241m=\u001b[39mdataset, usage\u001b[38;5;241m=\u001b[39musage, matrix\u001b[38;5;241m=\u001b[39mcomponent, dim\u001b[38;5;241m=\u001b[39mdim)\n\u001b[1;32m    185\u001b[0m \u001b[38;5;28;01mwith\u001b[39;00m zipfile\u001b[38;5;241m.\u001b[39mZipFile(cache_path) \u001b[38;5;28;01mas\u001b[39;00m zf:\n\u001b[0;32m--> 186\u001b[0m     compressed_data \u001b[38;5;241m=\u001b[39m \u001b[43mzf\u001b[49m\u001b[38;5;241;43m.\u001b[39;49m\u001b[43mread\u001b[49m\u001b[43m(\u001b[49m\u001b[43mzip_internal_path\u001b[49m\u001b[43m)\u001b[49m\n\u001b[1;32m    187\u001b[0m data \u001b[38;5;241m=\u001b[39m gzip\u001b[38;5;241m.\u001b[39mdecompress(compressed_data)\n\u001b[1;32m    188\u001b[0m array \u001b[38;5;241m=\u001b[39m parse_idx(data)\n",
      "File \u001b[0;32m/Library/Frameworks/Python.framework/Versions/3.10/lib/python3.10/zipfile.py:1477\u001b[0m, in \u001b[0;36mZipFile.read\u001b[0;34m(self, name, pwd)\u001b[0m\n\u001b[1;32m   1475\u001b[0m \u001b[38;5;28;01mdef\u001b[39;00m \u001b[38;5;21mread\u001b[39m(\u001b[38;5;28mself\u001b[39m, name, pwd\u001b[38;5;241m=\u001b[39m\u001b[38;5;28;01mNone\u001b[39;00m):\n\u001b[1;32m   1476\u001b[0m \u001b[38;5;250m    \u001b[39m\u001b[38;5;124;03m\"\"\"Return file bytes for name.\"\"\"\u001b[39;00m\n\u001b[0;32m-> 1477\u001b[0m     \u001b[38;5;28;01mwith\u001b[39;00m \u001b[38;5;28;43mself\u001b[39;49m\u001b[38;5;241;43m.\u001b[39;49m\u001b[43mopen\u001b[49m\u001b[43m(\u001b[49m\u001b[43mname\u001b[49m\u001b[43m,\u001b[49m\u001b[43m \u001b[49m\u001b[38;5;124;43m\"\u001b[39;49m\u001b[38;5;124;43mr\u001b[39;49m\u001b[38;5;124;43m\"\u001b[39;49m\u001b[43m,\u001b[49m\u001b[43m \u001b[49m\u001b[43mpwd\u001b[49m\u001b[43m)\u001b[49m \u001b[38;5;28;01mas\u001b[39;00m fp:\n\u001b[1;32m   1478\u001b[0m         \u001b[38;5;28;01mreturn\u001b[39;00m fp\u001b[38;5;241m.\u001b[39mread()\n",
      "File \u001b[0;32m/Library/Frameworks/Python.framework/Versions/3.10/lib/python3.10/zipfile.py:1516\u001b[0m, in \u001b[0;36mZipFile.open\u001b[0;34m(self, name, mode, pwd, force_zip64)\u001b[0m\n\u001b[1;32m   1513\u001b[0m     zinfo\u001b[38;5;241m.\u001b[39m_compresslevel \u001b[38;5;241m=\u001b[39m \u001b[38;5;28mself\u001b[39m\u001b[38;5;241m.\u001b[39mcompresslevel\n\u001b[1;32m   1514\u001b[0m \u001b[38;5;28;01melse\u001b[39;00m:\n\u001b[1;32m   1515\u001b[0m     \u001b[38;5;66;03m# Get info object for name\u001b[39;00m\n\u001b[0;32m-> 1516\u001b[0m     zinfo \u001b[38;5;241m=\u001b[39m \u001b[38;5;28;43mself\u001b[39;49m\u001b[38;5;241;43m.\u001b[39;49m\u001b[43mgetinfo\u001b[49m\u001b[43m(\u001b[49m\u001b[43mname\u001b[49m\u001b[43m)\u001b[49m\n\u001b[1;32m   1518\u001b[0m \u001b[38;5;28;01mif\u001b[39;00m mode \u001b[38;5;241m==\u001b[39m \u001b[38;5;124m'\u001b[39m\u001b[38;5;124mw\u001b[39m\u001b[38;5;124m'\u001b[39m:\n\u001b[1;32m   1519\u001b[0m     \u001b[38;5;28;01mreturn\u001b[39;00m \u001b[38;5;28mself\u001b[39m\u001b[38;5;241m.\u001b[39m_open_to_write(zinfo, force_zip64\u001b[38;5;241m=\u001b[39mforce_zip64)\n",
      "File \u001b[0;32m/Library/Frameworks/Python.framework/Versions/3.10/lib/python3.10/zipfile.py:1443\u001b[0m, in \u001b[0;36mZipFile.getinfo\u001b[0;34m(self, name)\u001b[0m\n\u001b[1;32m   1441\u001b[0m info \u001b[38;5;241m=\u001b[39m \u001b[38;5;28mself\u001b[39m\u001b[38;5;241m.\u001b[39mNameToInfo\u001b[38;5;241m.\u001b[39mget(name)\n\u001b[1;32m   1442\u001b[0m \u001b[38;5;28;01mif\u001b[39;00m info \u001b[38;5;129;01mis\u001b[39;00m \u001b[38;5;28;01mNone\u001b[39;00m:\n\u001b[0;32m-> 1443\u001b[0m     \u001b[38;5;28;01mraise\u001b[39;00m \u001b[38;5;167;01mKeyError\u001b[39;00m(\n\u001b[1;32m   1444\u001b[0m         \u001b[38;5;124m'\u001b[39m\u001b[38;5;124mThere is no item named \u001b[39m\u001b[38;5;132;01m%r\u001b[39;00m\u001b[38;5;124m in the archive\u001b[39m\u001b[38;5;124m'\u001b[39m \u001b[38;5;241m%\u001b[39m name)\n\u001b[1;32m   1446\u001b[0m \u001b[38;5;28;01mreturn\u001b[39;00m info\n",
      "\u001b[0;31mKeyError\u001b[0m: \"There is no item named 'gzip/emnist-balanced-train-images-idx3-ubyte.gz' in the archive\""
     ]
    }
   ],
   "source": [
    "# Import the necessary functions from the emnist library\n",
    "from emnist import extract_training_samples\n",
    "from emnist import extract_test_samples\n",
    "\n",
    "# Define the labels for the EMNIST dataset\n",
    "LABELS = ['0', '1', '2', '3', '4', '5', '6', '7', '8', '9', \n",
    "          'A', 'B', 'C', 'D', 'E', 'F', 'G', 'H', 'I', 'J', 'K', 'L', 'M', 'N', 'O', 'P', 'Q', 'R', 'S', 'T', 'U', 'V', 'W', 'X', 'Y', 'Z',\n",
    "          'a', 'b', 'd', 'e', 'f', 'g', 'h', 'n', 'q', 'r', 't']\n",
    "\n",
    "# Define a function to remodulate the labels\n",
    "def remodulate(y):\n",
    "    \"\"\"\n",
    "    Remodulates the input array 'y' based on the labels.\n",
    "\n",
    "    Parameters:\n",
    "    - y (numpy.ndarray): The input array to be remodulated.\n",
    "\n",
    "    Returns:\n",
    "    - numpy.ndarray: The remodulated array.\n",
    "    \"\"\"\n",
    "    # Replace the labels 'T', 'B', 'Y', 'G' with 0, 1, 2, 3 respectively\n",
    "    # Define a dictionary to map the labels to their new values\n",
    "    label_map = {\"T\": 0, \"B\": 1, \"Y\": 2, \"G\": 3}\n",
    "\n",
    "    # Loop through the label_map to replace the labels with their new values\n",
    "    for label, value in label_map.items():\n",
    "        y = np.where(y == LABELS.index(label), value, y)\n",
    "\n",
    "    return y\n",
    "\n",
    "# Define a function to filter the dataset based on specific label conditions\n",
    "def filterDataset(X_data, y_data):\n",
    "    \"\"\"\n",
    "    Filters the dataset based on lables we need to use (T, B, G, Y).\n",
    "\n",
    "    Args:\n",
    "        X_data (ndarray): Input data array of shape (n_samples, 28, 28).\n",
    "        y_data (ndarray): Target labels array of shape (n_samples,).\n",
    "\n",
    "    Returns:\n",
    "        tuple: A tuple containing the filtered input data array and target labels array.\n",
    "\n",
    "    Raises:\n",
    "        AssertionError: If the dtype of y_data is not np.uint8.\n",
    "    \"\"\"\n",
    "    # Assert that the dtype of y_data is np.uint8\n",
    "    assert y_data.dtype == np.uint8\n",
    "    # Define the classes\n",
    "    classes = LABELS\n",
    "    # Initialize the new_data_size\n",
    "    new_data_size = 0\n",
    "    # Initialize the new_data_index\n",
    "    new_data_index = 0\n",
    "\n",
    "    # Loop through the y_data to count the number of records with labels 'B', 'Y', 'G', 'T'\n",
    "    for recordIndex in range(0, y_data.shape[0]):\n",
    "        currentLabel = classes[y_data[recordIndex]]\n",
    "        if currentLabel == 'B' or currentLabel == 'Y' or currentLabel == 'G' or currentLabel == 'T':\n",
    "            new_data_size += 1\n",
    "    \n",
    "    # Initialize the new_X_data and new_y_data with zeros\n",
    "    new_X_data = np.zeros((new_data_size, 28, 28), dtype = X_data.dtype)\n",
    "    new_y_data = np.zeros((new_data_size,), dtype = np.uint8)\n",
    "\n",
    "    # Loop through the y_data to filter the records with labels 'B', 'Y', 'G', 'T'\n",
    "    for recordIndex in range(0, y_data.shape[0]):\n",
    "        currentLabel = classes[y_data[recordIndex]]\n",
    "\n",
    "        if currentLabel != 'B' and currentLabel != 'Y' and currentLabel != 'G' and currentLabel != 'T':\n",
    "            continue\n",
    "        \n",
    "        new_X_data[new_data_index] = X_data[recordIndex]\n",
    "        new_y_data[new_data_index] = y_data[recordIndex]\n",
    "        new_data_index += 1\n",
    "    \n",
    "    # Assert that the new_data_index is equal to the shape of new_X_data\n",
    "    assert new_data_index == new_X_data.shape[0]\n",
    "    return (new_X_data, new_y_data)\n",
    "\n",
    "# Extract the training and test samples from the EMNIST dataset\n",
    "X_train, y_train = extract_training_samples('balanced')\n",
    "X_test, y_test = extract_test_samples('balanced')\n",
    "\n",
    "# Filter the training and test datasets\n",
    "(X_train, y_train_library) = filterDataset(X_train, y_train)\n",
    "(X_test, y_test) = filterDataset(X_test, y_test)\n",
    "\n",
    "# Remodulate the labels of the training and test datasets\n",
    "y_train_library = remodulate(y_train_library)\n",
    "y_test = remodulate(y_test)\n",
    "\n",
    "# Normalize the training and test datasets\n",
    "X_train = X_train.astype(\"float32\") / 255\n",
    "X_test = X_test.astype(\"float32\") / 255"
   ]
  },
  {
   "cell_type": "markdown",
   "metadata": {},
   "source": [
    "### Reshape\n",
    "Il seguente codice sta ridisponendo i dati di addestramento e test _da 3D_ (numero di campioni, larghezza dell'immagine, altezza dell'immagine) _a 2D_ (numero di campioni, larghezza dell'immagine * altezza dell'immagine).\n",
    "Molti modelli di reti neurali si aspettano di ricevere dati in un formato bidimensionale, quindi se i tuoi dati sono in un formato diverso (ad esempio, immagini rappresentate come array tridimensionali), potrebbe essere necessario eseguire il reshape per adattarli alla forma richiesta dal modello.."
   ]
  },
  {
   "cell_type": "code",

   "execution_count": 3,
   "metadata": {},
   "outputs": [
    {
     "name": "stdout",
     "output_type": "stream",
     "text": [
      "(9600, 28, 28)\n",
      "(9600, 28, 28, 1)\n",
      "(1600, 28, 28, 1)\n"
     ]
    }
   ],
   "source": [
    "# Print the shape of the training data\n",
    "print(X_train.shape)\n",
    "\n",
    "# Reshape the training data from 3D to 2D. The new shape is (number of samples, image width * image height)\n",
    "X_train = X_train.reshape((-1, 28, 28, 1))\n",
    "\n",
    "# Reshape the test data from 3D to 2D. The new shape is (number of samples, image width * image height)\n",
    "X_test = X_test.reshape((-1, 28, 28, 1))\n",
    "\n",
    "# Print the new shape of the training data\n",
    "print(X_train.shape)\n",
    "\n",
    "# Print the shape of the test data\n",
    "print(X_test.shape)"
   ]
  },
  {
   "cell_type": "markdown",
   "metadata": {},
   "source": [
    "### Creazione della rete neurale per il modello "
   ]
  },
  {
   "cell_type": "code",
   "execution_count": 12,
   "metadata": {},
   "outputs": [
    {
     "name": "stderr",
     "output_type": "stream",
     "text": [
      "/home/toita/Documents/progetto-intro-ia/.venv/lib/python3.10/site-packages/keras/src/layers/convolutional/base_conv.py:99: UserWarning: Do not pass an `input_shape`/`input_dim` argument to a layer. When using Sequential models, prefer using an `Input(shape)` object as the first layer in the model instead.\n",
      "  super().__init__(\n"
     ]
    },
    {
     "data": {
      "text/html": [
       "<pre style=\"white-space:pre;overflow-x:auto;line-height:normal;font-family:Menlo,'DejaVu Sans Mono',consolas,'Courier New',monospace\"><span style=\"font-weight: bold\">Model: \"sequential_1\"</span>\n",
       "</pre>\n"
      ],
      "text/plain": [
       "\u001b[1mModel: \"sequential_1\"\u001b[0m\n"
      ]
     },
     "metadata": {},
     "output_type": "display_data"
    },
    {
     "data": {
      "text/html": [
       "<pre style=\"white-space:pre;overflow-x:auto;line-height:normal;font-family:Menlo,'DejaVu Sans Mono',consolas,'Courier New',monospace\">┏━━━━━━━━━━━━━━━━━━━━━━━━━━━━━━━━━┳━━━━━━━━━━━━━━━━━━━━━━━━┳━━━━━━━━━━━━━━━┓\n",
       "┃<span style=\"font-weight: bold\"> Layer (type)                    </span>┃<span style=\"font-weight: bold\"> Output Shape           </span>┃<span style=\"font-weight: bold\">       Param # </span>┃\n",
       "┡━━━━━━━━━━━━━━━━━━━━━━━━━━━━━━━━━╇━━━━━━━━━━━━━━━━━━━━━━━━╇━━━━━━━━━━━━━━━┩\n",
       "│ conv2d_3 (<span style=\"color: #0087ff; text-decoration-color: #0087ff\">Conv2D</span>)               │ (<span style=\"color: #00d7ff; text-decoration-color: #00d7ff\">None</span>, <span style=\"color: #00af00; text-decoration-color: #00af00\">26</span>, <span style=\"color: #00af00; text-decoration-color: #00af00\">26</span>, <span style=\"color: #00af00; text-decoration-color: #00af00\">32</span>)     │           <span style=\"color: #00af00; text-decoration-color: #00af00\">320</span> │\n",
       "├─────────────────────────────────┼────────────────────────┼───────────────┤\n",
       "│ max_pooling2d_2 (<span style=\"color: #0087ff; text-decoration-color: #0087ff\">MaxPooling2D</span>)  │ (<span style=\"color: #00d7ff; text-decoration-color: #00d7ff\">None</span>, <span style=\"color: #00af00; text-decoration-color: #00af00\">13</span>, <span style=\"color: #00af00; text-decoration-color: #00af00\">13</span>, <span style=\"color: #00af00; text-decoration-color: #00af00\">32</span>)     │             <span style=\"color: #00af00; text-decoration-color: #00af00\">0</span> │\n",
       "├─────────────────────────────────┼────────────────────────┼───────────────┤\n",
       "│ conv2d_4 (<span style=\"color: #0087ff; text-decoration-color: #0087ff\">Conv2D</span>)               │ (<span style=\"color: #00d7ff; text-decoration-color: #00d7ff\">None</span>, <span style=\"color: #00af00; text-decoration-color: #00af00\">11</span>, <span style=\"color: #00af00; text-decoration-color: #00af00\">11</span>, <span style=\"color: #00af00; text-decoration-color: #00af00\">64</span>)     │        <span style=\"color: #00af00; text-decoration-color: #00af00\">18,496</span> │\n",
       "├─────────────────────────────────┼────────────────────────┼───────────────┤\n",
       "│ max_pooling2d_3 (<span style=\"color: #0087ff; text-decoration-color: #0087ff\">MaxPooling2D</span>)  │ (<span style=\"color: #00d7ff; text-decoration-color: #00d7ff\">None</span>, <span style=\"color: #00af00; text-decoration-color: #00af00\">5</span>, <span style=\"color: #00af00; text-decoration-color: #00af00\">5</span>, <span style=\"color: #00af00; text-decoration-color: #00af00\">64</span>)       │             <span style=\"color: #00af00; text-decoration-color: #00af00\">0</span> │\n",
       "├─────────────────────────────────┼────────────────────────┼───────────────┤\n",
       "│ conv2d_5 (<span style=\"color: #0087ff; text-decoration-color: #0087ff\">Conv2D</span>)               │ (<span style=\"color: #00d7ff; text-decoration-color: #00d7ff\">None</span>, <span style=\"color: #00af00; text-decoration-color: #00af00\">3</span>, <span style=\"color: #00af00; text-decoration-color: #00af00\">3</span>, <span style=\"color: #00af00; text-decoration-color: #00af00\">64</span>)       │        <span style=\"color: #00af00; text-decoration-color: #00af00\">36,928</span> │\n",
       "├─────────────────────────────────┼────────────────────────┼───────────────┤\n",
       "│ flatten_1 (<span style=\"color: #0087ff; text-decoration-color: #0087ff\">Flatten</span>)             │ (<span style=\"color: #00d7ff; text-decoration-color: #00d7ff\">None</span>, <span style=\"color: #00af00; text-decoration-color: #00af00\">576</span>)            │             <span style=\"color: #00af00; text-decoration-color: #00af00\">0</span> │\n",
       "├─────────────────────────────────┼────────────────────────┼───────────────┤\n",
       "│ dense_2 (<span style=\"color: #0087ff; text-decoration-color: #0087ff\">Dense</span>)                 │ (<span style=\"color: #00d7ff; text-decoration-color: #00d7ff\">None</span>, <span style=\"color: #00af00; text-decoration-color: #00af00\">64</span>)             │        <span style=\"color: #00af00; text-decoration-color: #00af00\">36,928</span> │\n",
       "├─────────────────────────────────┼────────────────────────┼───────────────┤\n",
       "│ dense_3 (<span style=\"color: #0087ff; text-decoration-color: #0087ff\">Dense</span>)                 │ (<span style=\"color: #00d7ff; text-decoration-color: #00d7ff\">None</span>, <span style=\"color: #00af00; text-decoration-color: #00af00\">4</span>)              │           <span style=\"color: #00af00; text-decoration-color: #00af00\">260</span> │\n",
       "└─────────────────────────────────┴────────────────────────┴───────────────┘\n",
       "</pre>\n"
      ],
      "text/plain": [
       "┏━━━━━━━━━━━━━━━━━━━━━━━━━━━━━━━━━┳━━━━━━━━━━━━━━━━━━━━━━━━┳━━━━━━━━━━━━━━━┓\n",
       "┃\u001b[1m \u001b[0m\u001b[1mLayer (type)                   \u001b[0m\u001b[1m \u001b[0m┃\u001b[1m \u001b[0m\u001b[1mOutput Shape          \u001b[0m\u001b[1m \u001b[0m┃\u001b[1m \u001b[0m\u001b[1m      Param #\u001b[0m\u001b[1m \u001b[0m┃\n",
       "┡━━━━━━━━━━━━━━━━━━━━━━━━━━━━━━━━━╇━━━━━━━━━━━━━━━━━━━━━━━━╇━━━━━━━━━━━━━━━┩\n",
       "│ conv2d_3 (\u001b[38;5;33mConv2D\u001b[0m)               │ (\u001b[38;5;45mNone\u001b[0m, \u001b[38;5;34m26\u001b[0m, \u001b[38;5;34m26\u001b[0m, \u001b[38;5;34m32\u001b[0m)     │           \u001b[38;5;34m320\u001b[0m │\n",
       "├─────────────────────────────────┼────────────────────────┼───────────────┤\n",
       "│ max_pooling2d_2 (\u001b[38;5;33mMaxPooling2D\u001b[0m)  │ (\u001b[38;5;45mNone\u001b[0m, \u001b[38;5;34m13\u001b[0m, \u001b[38;5;34m13\u001b[0m, \u001b[38;5;34m32\u001b[0m)     │             \u001b[38;5;34m0\u001b[0m │\n",
       "├─────────────────────────────────┼────────────────────────┼───────────────┤\n",
       "│ conv2d_4 (\u001b[38;5;33mConv2D\u001b[0m)               │ (\u001b[38;5;45mNone\u001b[0m, \u001b[38;5;34m11\u001b[0m, \u001b[38;5;34m11\u001b[0m, \u001b[38;5;34m64\u001b[0m)     │        \u001b[38;5;34m18,496\u001b[0m │\n",
       "├─────────────────────────────────┼────────────────────────┼───────────────┤\n",
       "│ max_pooling2d_3 (\u001b[38;5;33mMaxPooling2D\u001b[0m)  │ (\u001b[38;5;45mNone\u001b[0m, \u001b[38;5;34m5\u001b[0m, \u001b[38;5;34m5\u001b[0m, \u001b[38;5;34m64\u001b[0m)       │             \u001b[38;5;34m0\u001b[0m │\n",
       "├─────────────────────────────────┼────────────────────────┼───────────────┤\n",
       "│ conv2d_5 (\u001b[38;5;33mConv2D\u001b[0m)               │ (\u001b[38;5;45mNone\u001b[0m, \u001b[38;5;34m3\u001b[0m, \u001b[38;5;34m3\u001b[0m, \u001b[38;5;34m64\u001b[0m)       │        \u001b[38;5;34m36,928\u001b[0m │\n",
       "├─────────────────────────────────┼────────────────────────┼───────────────┤\n",
       "│ flatten_1 (\u001b[38;5;33mFlatten\u001b[0m)             │ (\u001b[38;5;45mNone\u001b[0m, \u001b[38;5;34m576\u001b[0m)            │             \u001b[38;5;34m0\u001b[0m │\n",
       "├─────────────────────────────────┼────────────────────────┼───────────────┤\n",
       "│ dense_2 (\u001b[38;5;33mDense\u001b[0m)                 │ (\u001b[38;5;45mNone\u001b[0m, \u001b[38;5;34m64\u001b[0m)             │        \u001b[38;5;34m36,928\u001b[0m │\n",
       "├─────────────────────────────────┼────────────────────────┼───────────────┤\n",
       "│ dense_3 (\u001b[38;5;33mDense\u001b[0m)                 │ (\u001b[38;5;45mNone\u001b[0m, \u001b[38;5;34m4\u001b[0m)              │           \u001b[38;5;34m260\u001b[0m │\n",
       "└─────────────────────────────────┴────────────────────────┴───────────────┘\n"
      ]
     },
     "metadata": {},
     "output_type": "display_data"
    },
    {
     "data": {
      "text/html": [
       "<pre style=\"white-space:pre;overflow-x:auto;line-height:normal;font-family:Menlo,'DejaVu Sans Mono',consolas,'Courier New',monospace\"><span style=\"font-weight: bold\"> Total params: </span><span style=\"color: #00af00; text-decoration-color: #00af00\">92,932</span> (363.02 KB)\n",
       "</pre>\n"
      ],
      "text/plain": [
       "\u001b[1m Total params: \u001b[0m\u001b[38;5;34m92,932\u001b[0m (363.02 KB)\n"
      ]
     },
     "metadata": {},
     "output_type": "display_data"
    },
    {
     "data": {
      "text/html": [
       "<pre style=\"white-space:pre;overflow-x:auto;line-height:normal;font-family:Menlo,'DejaVu Sans Mono',consolas,'Courier New',monospace\"><span style=\"font-weight: bold\"> Trainable params: </span><span style=\"color: #00af00; text-decoration-color: #00af00\">92,932</span> (363.02 KB)\n",
       "</pre>\n"
      ],
      "text/plain": [
       "\u001b[1m Trainable params: \u001b[0m\u001b[38;5;34m92,932\u001b[0m (363.02 KB)\n"
      ]
     },
     "metadata": {},
     "output_type": "display_data"
    },
    {
     "data": {
      "text/html": [
       "<pre style=\"white-space:pre;overflow-x:auto;line-height:normal;font-family:Menlo,'DejaVu Sans Mono',consolas,'Courier New',monospace\"><span style=\"font-weight: bold\"> Non-trainable params: </span><span style=\"color: #00af00; text-decoration-color: #00af00\">0</span> (0.00 B)\n",
       "</pre>\n"
      ],
      "text/plain": [
       "\u001b[1m Non-trainable params: \u001b[0m\u001b[38;5;34m0\u001b[0m (0.00 B)\n"
      ]
     },
     "metadata": {},
     "output_type": "display_data"
    }
   ],
   "source": [
    "'''\n",
    "# Initialize a Sequential model\n",
    "seq_lett_model = keras.Sequential()\n",
    "\n",
    "# Add an Input layer to the model. This layer specifies the shape of the input data (784 features).\n",
    "seq_lett_model.add(keras.Input(shape=(784,)))\n",
    "\n",
    "# Add a Dense layer to the model with 256 neurons and a ReLU activation function.\n",
    "# Dense layers are fully connected layers, meaning all the neurons in a layer are connected to those in the next layer.\n",
    "seq_lett_model.add(keras.layers.Dense(512, activation='relu'))\n",
    "\n",
    "# Add another Dense layer to the model with 128 neurons and a ReLU activation function.\n",
    "seq_lett_model.add(keras.layers.Dense(256, activation='relu'))\n",
    "\n",
    "# Add a final Dense layer with 4 neurons (because we have 4 letters to detect) and a softmax activation function.\n",
    "# The softmax function is often used in the final layer of a neural network-based classifier.\n",
    "seq_lett_model.add(keras.layers.Dense(4, activation='softmax'))\n",
    "\n",
    "# Print a summary of the model, including the number of parameters and the shape of the output at each layer.\n",
    "'''\n",
    "seq_lett_model = keras.Sequential([\n",
    "    keras.layers.Conv2D(32, (3, 3), activation='relu', input_shape=(28, 28, 1)),  # Input shape: 28x28 pixels, 1 color channel\n",
    "    keras.layers.MaxPooling2D((2, 2)),\n",
    "    keras.layers.Conv2D(64, (3, 3), activation='relu'),\n",
    "    keras.layers.MaxPooling2D((2, 2)),\n",
    "    keras.layers.Conv2D(64, (3, 3), activation='relu'),\n",
    "    keras.layers.Flatten(),\n",
    "    keras.layers.Dense(64, activation='relu'),\n",
    "    keras.layers.Dense(4, activation='softmax')  # Output layer for 4 letters\n",
    "])\n",
    "\n",
    "seq_lett_model.summary()"
   ]
  },
  {
   "cell_type": "markdown",
   "metadata": {},
   "source": [
    "### Training"
   ]
  },
  {
   "cell_type": "code",
   "execution_count": 13,
   "metadata": {},
   "outputs": [
    {
     "name": "stdout",
     "output_type": "stream",
     "text": [
      "Epoch 1/10\n",
      "\u001b[1m23/23\u001b[0m \u001b[32m━━━━━━━━━━━━━━━━━━━━\u001b[0m\u001b[37m\u001b[0m \u001b[1m4s\u001b[0m 117ms/step - accuracy: 0.6230 - loss: 0.9768 - val_accuracy: 0.9208 - val_loss: 0.2050\n",
      "Epoch 2/10\n",
      "\u001b[1m23/23\u001b[0m \u001b[32m━━━━━━━━━━━━━━━━━━━━\u001b[0m\u001b[37m\u001b[0m \u001b[1m3s\u001b[0m 112ms/step - accuracy: 0.9270 - loss: 0.1954 - val_accuracy: 0.9698 - val_loss: 0.0961\n",
      "Epoch 3/10\n",
      "\u001b[1m23/23\u001b[0m \u001b[32m━━━━━━━━━━━━━━━━━━━━\u001b[0m\u001b[37m\u001b[0m \u001b[1m3s\u001b[0m 109ms/step - accuracy: 0.9656 - loss: 0.1081 - val_accuracy: 0.9760 - val_loss: 0.0701\n",
      "Epoch 4/10\n",
      "\u001b[1m23/23\u001b[0m \u001b[32m━━━━━━━━━━━━━━━━━━━━\u001b[0m\u001b[37m\u001b[0m \u001b[1m3s\u001b[0m 108ms/step - accuracy: 0.9767 - loss: 0.0724 - val_accuracy: 0.9844 - val_loss: 0.0469\n",
      "Epoch 5/10\n",
      "\u001b[1m23/23\u001b[0m \u001b[32m━━━━━━━━━━━━━━━━━━━━\u001b[0m\u001b[37m\u001b[0m \u001b[1m3s\u001b[0m 109ms/step - accuracy: 0.9803 - loss: 0.0553 - val_accuracy: 0.9885 - val_loss: 0.0384\n",
      "Epoch 6/10\n",
      "\u001b[1m23/23\u001b[0m \u001b[32m━━━━━━━━━━━━━━━━━━━━\u001b[0m\u001b[37m\u001b[0m \u001b[1m3s\u001b[0m 109ms/step - accuracy: 0.9867 - loss: 0.0403 - val_accuracy: 0.9875 - val_loss: 0.0340\n",
      "Epoch 7/10\n",
      "\u001b[1m23/23\u001b[0m \u001b[32m━━━━━━━━━━━━━━━━━━━━\u001b[0m\u001b[37m\u001b[0m \u001b[1m3s\u001b[0m 112ms/step - accuracy: 0.9856 - loss: 0.0382 - val_accuracy: 0.9885 - val_loss: 0.0307\n",
      "Epoch 8/10\n",
      "\u001b[1m23/23\u001b[0m \u001b[32m━━━━━━━━━━━━━━━━━━━━\u001b[0m\u001b[37m\u001b[0m \u001b[1m3s\u001b[0m 110ms/step - accuracy: 0.9897 - loss: 0.0282 - val_accuracy: 0.9927 - val_loss: 0.0243\n",
      "Epoch 9/10\n",
      "\u001b[1m23/23\u001b[0m \u001b[32m━━━━━━━━━━━━━━━━━━━━\u001b[0m\u001b[37m\u001b[0m \u001b[1m3s\u001b[0m 111ms/step - accuracy: 0.9928 - loss: 0.0248 - val_accuracy: 0.9906 - val_loss: 0.0253\n",
      "Epoch 10/10\n",
      "\u001b[1m23/23\u001b[0m \u001b[32m━━━━━━━━━━━━━━━━━━━━\u001b[0m\u001b[37m\u001b[0m \u001b[1m3s\u001b[0m 112ms/step - accuracy: 0.9937 - loss: 0.0205 - val_accuracy: 0.9927 - val_loss: 0.0240\n"
     ]
    }
   ],
   "source": [
    "# Set the batch size. This is the number of samples that will be passed through the network at once.\n",
    "batch_size = 384\n",
    "\n",
    "# Set the number of epochs to 7. An epoch is one complete pass through the entire training dataset.\n",
    "epochs = 10\n",
    "\n",
    "# Compile the model. \n",
    "# We use the sparse_categorical_crossentropy loss function, which is suitable for multi-class classification problems.\n",
    "# The optimizer is set to 'adam', which is a popular choice due to its efficiency and good performance on a wide range of problems.\n",
    "# We also specify that we want to evaluate the model's accuracy during training.\n",
    "seq_lett_model.compile(loss=\"sparse_categorical_crossentropy\", optimizer=\"adam\", metrics=[\"accuracy\"])\n",
    "\n",
    "# Fit the model to the training data. \n",
    "# We also specify a validation split of 0.1, meaning that 10% of the training data will be used as validation data.\n",
    "# The model's performance is evaluated on this validation data at the end of each epoch.\n",
    "training_operation = seq_lett_model.fit(X_train, y_train_library, batch_size=batch_size, epochs=epochs, validation_split=0.1)\n",
    "\n",
    "# Save the trained model to a file so that it can be loaded later for making predictions or continuing training.\n",
    "seq_lett_model.save('seq_lett_model.keras')"
   ]
  },
  {
   "cell_type": "code",
   "execution_count": 14,
   "metadata": {},
   "outputs": [
    {
     "data": {
      "image/png": "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",
      "text/plain": [
       "<Figure size 640x480 with 1 Axes>"
      ]
     },
     "metadata": {},
     "output_type": "display_data"
    },
    {
     "data": {
      "image/png": "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",
      "text/plain": [
       "<Figure size 640x480 with 1 Axes>"
      ]
     },
     "metadata": {},
     "output_type": "display_data"
    }
   ],
   "source": [
    "# Plot training & validation accuracy values\n",
    "plt.plot(training_operation.history['accuracy'])\n",
    "plt.plot(training_operation.history['val_accuracy'])\n",
    "plt.title('Model accuracy')\n",
    "plt.ylabel('Accuracy')\n",
    "plt.xlabel('Epoch')\n",
    "plt.legend(['Train', 'Val'], loc='upper left')\n",
    "plt.show()\n",
    "\n",
    "# Plot training & validation loss values\n",
    "plt.plot(training_operation.history['loss'])\n",
    "plt.plot(training_operation.history['val_loss'])\n",
    "plt.title('Model loss')\n",
    "plt.ylabel('Loss')\n",
    "plt.xlabel('Epoch')\n",
    "plt.legend(['Train', 'Val'], loc='upper left')\n",
    "plt.show()"
   ]
  },
  {
   "cell_type": "markdown",
   "metadata": {},
   "source": [
    "evaluating the performance of a trained model on test data. It prints the loss and accuracy that the model achieved on the test data. The loss is a measure of how well the model can estimate the target variables, while the accuracy is the proportion of correct predictions that the model made."
   ]
  },
  {
   "cell_type": "code",
   "execution_count": 15,
   "metadata": {},
   "outputs": [
    {
     "name": "stdout",
     "output_type": "stream",
     "text": [
      "Test loss: 0.04938802868127823\n",
      "Test accuracy: 0.984375\n"
     ]
    }
   ],
   "source": [
    "# Evaluate the model's performance on the test data. \n",
    "# The evaluate function returns the loss value and metrics values for the model in test mode.\n",
    "# We set verbose=0 to avoid logging the detailed output during the evaluation.\n",
    "loss, accuracy =  seq_lett_model.evaluate(X_test, y_test, verbose=0)\n",
    "\n",
    "# Print the loss value that the model achieved on the test data.\n",
    "# The loss value represents how well the model can estimate the target variables. Lower values are better.\n",
    "print(\"Test loss:\", loss)\n",
    "\n",
    "# Print the accuracy that the model achieved on the test data.\n",
    "# The accuracy is the proportion of correct predictions that the model made. Higher values are better.\n",
    "print(\"Test accuracy:\", accuracy)"
   ]
  },
  {
   "cell_type": "markdown",
   "metadata": {},
   "source": [
    "### confusion matrix"
   ]
  },
  {
   "cell_type": "code",
   "execution_count": 16,
   "metadata": {},
   "outputs": [
    {
     "name": "stdout",
     "output_type": "stream",
     "text": [
      "\u001b[1m50/50\u001b[0m \u001b[32m━━━━━━━━━━━━━━━━━━━━\u001b[0m\u001b[37m\u001b[0m \u001b[1m0s\u001b[0m 4ms/step\n"
     ]
    },
    {
     "data": {
      "image/png": "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",
      "text/plain": [
       "<Figure size 640x480 with 2 Axes>"
      ]
     },
     "metadata": {},
     "output_type": "display_data"
    }
   ],
   "execution_count": null,
   "metadata": {},
   "outputs": [],
   "source": [
    "# Use the trained model to make predictions on the test data.\n",
    "# The predict function returns the output of the last layer in the model, which in this case is the output of the softmax layer.\n",
    "y_pred = seq_lett_model.predict(X_test)\n",
    "\n",
    "# The output of the softmax layer is a vector of probabilities for each class. \n",
    "# We use the argmax function to find the index of the maximum probability, which gives us the predicted class.\n",
    "y_pred = np.argmax(y_pred, axis = 1)\n",
    "\n",
    "# Compute the confusion matrix to evaluate the accuracy of the classification.\n",
    "# The confusion matrix is a table that is often used to describe the performance of a classification model.\n",
    "# Each row of the matrix represents the instances in a predicted class, while each column represents the instances in an actual class.\n",
    "# The 'normalize' parameter is set to 'true', which means the confusion matrix will be normalized by row (i.e., by the number of samples in each class).\n",
    "confusionMatrix = confusion_matrix(y_test, y_pred, normalize = 'true')\n",
    "\n",
    "# Create a ConfusionMatrixDisplay object from the confusion matrix.\n",
    "# The display_labels parameter is set to the names of the classes.\n",
    "disp = ConfusionMatrixDisplay(confusion_matrix = confusionMatrix, display_labels = ['T','B','Y','G'])\n",
    "\n",
    "# Plot the confusion matrix.\n",
    "disp.plot()\n",
    "\n",
    "# Display the plot.\n",
    "plt.show()"
   ]
  },
  {
   "cell_type": "markdown",
   "metadata": {},
   "source": [
    "##### Precision, Recall e F1"
   ]
  },
  {
   "cell_type": "code",
   "execution_count": 17,
   "metadata": {},
   "outputs": [
    {
     "name": "stdout",
     "output_type": "stream",
     "text": [
      "              precision    recall  f1-score   support\n",
      "\n",
      "           0       0.99      0.99      0.99       400\n",
      "           1       0.97      0.99      0.98       400\n",
      "           2       0.99      0.99      0.99       400\n",
      "           3       0.99      0.97      0.98       400\n",
      "\n",
      "    accuracy                           0.98      1600\n",
      "   macro avg       0.98      0.98      0.98      1600\n",
      "weighted avg       0.98      0.98      0.98      1600\n",
      "\n"
     ]
    }
   ],
   "source": [
    "from sklearn.metrics import classification_report\n",
    "print(classification_report(y_test, y_pred))"
   ]
  },
  {
   "cell_type": "markdown",
   "metadata": {},
   "source": [
    "### Extraction from the grid"
   ]
  },
  {
   "cell_type": "code",
   "execution_count": 27,

   "metadata": {},
   "outputs": [],
   "source": [
    "!find  './manipulated_grids/' -name 'ROI_*' -exec rm {} \\;\n",
    "\n",
    "def capture_image_from_webcam():\n",
    "    cap = cv2.VideoCapture(0)\n",
    "    if not cap.isOpened():\n",
    "        raise IOError(\"Cannot open webcam\")\n",
    "    while True:\n",
    "        ret, frame = cap.read()\n",
    "        if ret:\n",
    "            cv2.imshow('Input', frame)\n",
    "            if cv2.waitKey(1) & 0xFF == ord('q'):\n",
    "                break\n",
    "        else:\n",
    "            break\n",
    "    cap.release()\n",
    "    cv2.destroyAllWindows()\n",
    "    return frame\n",
    "\n",
    "def save_image(image, filename):\n",
    "    cv2.imwrite(filename, image)\n",
    "\n",
    "def preprocess_image(image):\n",
    "    gray = cv2.cvtColor(image, cv2.COLOR_BGR2GRAY)\n",
    "    blur = cv2.GaussianBlur(gray, (5,5), 0)\n",
    "    thresh = cv2.adaptiveThreshold(blur, 255, 1, 1, 11, 2)\n",
    "    return thresh\n",
    "\n",
    "def find_largest_contour(contours):\n",
    "    max_area = 0\n",
    "    for i in contours:\n",
    "        area = cv2.contourArea(i)\n",
    "        if area > max_area:\n",
    "            max_area = area\n",
    "            largest_contour = i\n",
    "    return largest_contour\n",
    "\n",
    "def extract_ROIs(contours, original):\n",
    "    ROIs = []\n",
    "    yt = None  # y-coordinate of the previous ROI\n",
    "    n = 1  # count of ROIs with the same y-coordinate\n",
    "    for i in contours:\n",
    "        area = cv2.contourArea(i)\n",
    "        if area > MIN_CONTOUR_AREA:\n",
    "            x, y, w, h = cv2.boundingRect(i)\n",
    "            if yt == y:\n",
    "                n += 1\n",
    "            else:\n",
    "                yt = y\n",
    "                n = 1\n",
    "            ROI = original[y:y+h, x:x+w]\n",
    "            ROIs.append(ROI)\n",
    "    return ROIs, n\n",
    "\n",
    "MIN_CONTOUR_AREA = 70 * 60\n",
    "\n",
    "frame = capture_image_from_webcam()\n",
    "timestamp = datetime.datetime.now().strftime('%Y-%m-%d_%H-%M-%S')\n",
    "save_image(frame, f'./grids/grid_{timestamp}.png')\n",
    "\n",
    "image = cv2.imread(f'./grids/grid_{timestamp}.png')\n",
    "thresh = preprocess_image(image)\n",
    "contours, _ = cv2.findContours(thresh, cv2.RETR_TREE, cv2.CHAIN_APPROX_SIMPLE)\n",
    "largest_contour = find_largest_contour(contours)\n",
    "ROIs, n = extract_ROIs(contours, image.copy())\n",
    "\n",
    "for i, ROI in enumerate(ROIs):\n",
    "    save_image(ROI, f'./manipulated_grids/ROI_{i}.png')"
   ]
  },
  {
   "cell_type": "markdown",
   "metadata": {},
   "source": [
    "cell calssifier"
   ]
  },
  {
   "cell_type": "code",
   "execution_count": 28,
   "metadata": {},
   "outputs": [
    {
     "name": "stdout",
     "output_type": "stream",
     "text": [
      "\u001b[1m1/1\u001b[0m \u001b[32m━━━━━━━━━━━━━━━━━━━━\u001b[0m\u001b[37m\u001b[0m \u001b[1m0s\u001b[0m 55ms/step\n",
      "\u001b[1m1/1\u001b[0m \u001b[32m━━━━━━━━━━━━━━━━━━━━\u001b[0m\u001b[37m\u001b[0m \u001b[1m0s\u001b[0m 15ms/step\n",
      "\u001b[1m1/1\u001b[0m \u001b[32m━━━━━━━━━━━━━━━━━━━━\u001b[0m\u001b[37m\u001b[0m \u001b[1m0s\u001b[0m 15ms/step\n",
      "\u001b[1m1/1\u001b[0m \u001b[32m━━━━━━━━━━━━━━━━━━━━\u001b[0m\u001b[37m\u001b[0m \u001b[1m0s\u001b[0m 14ms/step\n",
      "\u001b[1m1/1\u001b[0m \u001b[32m━━━━━━━━━━━━━━━━━━━━\u001b[0m\u001b[37m\u001b[0m \u001b[1m0s\u001b[0m 15ms/step\n",
      "\u001b[1m1/1\u001b[0m \u001b[32m━━━━━━━━━━━━━━━━━━━━\u001b[0m\u001b[37m\u001b[0m \u001b[1m0s\u001b[0m 16ms/step\n",
      "[['B']\n",
      " ['G']\n",
      " ['G']\n",
      " ['B']\n",
      " ['B']\n",
      " ['B']]\n"
     ]
    }
   ],
   "source": [
    "def preprocess_image(image_path):\n",
    "    im = cv2.imread(image_path)\n",
    "    if im is None:\n",
    "        print(f\"Error loading image: {image_path}\")\n",
    "        return None\n",
    "\n",
    "    im = cv2.bitwise_not(im)\n",
    "    im = cv2.cvtColor(im, cv2.COLOR_BGR2GRAY)\n",
    "    _, im = cv2.threshold(im, 127, 255, cv2.THRESH_BINARY)\n",
    "    im = cv2.resize(im, dsize=(28, 28), interpolation=cv2.INTER_LINEAR)\n",
    "    im = im.astype(\"float32\") / 255\n",
    "    im = np.reshape(im, (28, 28, 1))\n",
    "    im = tf.expand_dims(im, axis=0)\n",
    "    return im\n",
    "\n",
    "seq_lett_model = tf.keras.models.load_model('seq_lett_model.keras')\n",
    "\n",
    "l = []\n",
    "for i in range(1, len(ROIs)):\n",
    "    im = preprocess_image(f\"./manipulated_grids/ROI_{i}.png\")\n",
    "    if im is not None:\n",
    "        prediction = seq_lett_model.predict(im)\n",
    "        max = np.where(prediction == np.amax(prediction))\n",
    "        l.append(int(max[1][0]))\n",
    "\n",
    "nrow = len(l) // n if n < len(l) else n // len(l)\n",
    "nrow = int(nrow)\n",
    "\n",
    "mat = np.array(list(reversed(l)))\n",
    "grid = mat.reshape(nrow, n)\n",
    "\n",
    "label_mapping = {0: 'T', 1: 'B', 2: 'Y', 3: 'G'}\n",
    "show = np.vectorize(label_mapping.get)(grid)\n",
    "print(show)"
   ]
  },
  {
   "cell_type": "markdown",
   "metadata": {},
   "source": [
    "## 4 Esecuzione. \n",
    "Si implementi un simulatore dell’esecuzione del piano di azioni calcolato, anche semplicemente attraverso una sequenza di immagini."
   ]
  }
 ],
 "metadata": {
  "kernelspec": {
   "display_name": "Python 3",
   "language": "python",
   "name": "python3"
  },
  "language_info": {
   "codemirror_mode": {
    "name": "ipython",
    "version": 3
   },
   "file_extension": ".py",
   "mimetype": "text/x-python",
   "name": "python",
   "nbconvert_exporter": "python",
   "pygments_lexer": "ipython3",
   "version": "3.10.11"
  }
 },
 "nbformat": 4,
 "nbformat_minor": 2
}
